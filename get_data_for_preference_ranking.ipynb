{
 "cells": [
  {
   "cell_type": "code",
   "execution_count": 1,
   "metadata": {},
   "outputs": [],
   "source": [
    "import json\n",
    "import pandas as pd\n",
    "import random\n",
    "\n",
    "from pathlib import Path"
   ]
  },
  {
   "cell_type": "code",
   "execution_count": 2,
   "metadata": {},
   "outputs": [],
   "source": [
    "random.seed(42)"
   ]
  },
  {
   "cell_type": "code",
   "execution_count": 3,
   "metadata": {},
   "outputs": [],
   "source": [
    "data_dir = Path(\"/scratch/li.mil/hierarchical-mds/instruct_baselines/cochrane/mistral-7b-instruct\")\n",
    "doc_dir = data_dir / \"document\"\n",
    "para_dir = data_dir / \"paragraph\"\n",
    "sent_dir = data_dir / \"sentence\"\n",
    "seed = \"658\"\n",
    "\n",
    "truncate_all_doc = doc_dir / \"retrieved_truncate_all_greedy\" / seed / \"outputs.json\"\n",
    "truncate_all_para = para_dir / \"retrieved_naive_granular_greedy\" / seed / \"outputs.json\"\n",
    "truncate_all_sent = sent_dir / \"retrieved_naive_granular_greedy\" / seed / \"outputs.json\""
   ]
  },
  {
   "cell_type": "code",
   "execution_count": 4,
   "metadata": {},
   "outputs": [],
   "source": [
    "truncate_all_doc_outputs = json.load(open(truncate_all_doc, \"rb\"))\n",
    "truncate_all_para_outputs = json.load(open(truncate_all_para, \"rb\"))\n",
    "truncate_all_sent_outputs = json.load(open(truncate_all_sent, \"rb\"))"
   ]
  },
  {
   "cell_type": "code",
   "execution_count": 5,
   "metadata": {},
   "outputs": [],
   "source": [
    "doc_preds = truncate_all_doc_outputs['preds']\n",
    "para_preds = truncate_all_para_outputs['preds']\n",
    "sent_preds = truncate_all_sent_outputs['preds']\n",
    "labels_list = truncate_all_doc_outputs['labels']\n",
    "\n",
    "assert(truncate_all_doc_outputs['labels'] == truncate_all_para_outputs['labels'])\n",
    "assert(truncate_all_para_outputs['labels'] == truncate_all_sent_outputs['labels'])"
   ]
  },
  {
   "cell_type": "code",
   "execution_count": 6,
   "metadata": {},
   "outputs": [],
   "source": [
    "# Randomly order the doc/para/sents with the labels, then save this\n",
    "labels = []\n",
    "inputs = []\n",
    "\n",
    "input_order = []\n",
    "for doc, para, sent, label in zip(doc_preds, para_preds, sent_preds, labels_list):\n",
    "    labels.append(label)\n",
    "    options = [\"doc\", \"para\", \"sent\"]\n",
    "    current_order = []\n",
    "    current_str = []\n",
    "    for idx in range(len(options)):\n",
    "        option = random.choice(options)\n",
    "        options.remove(option)\n",
    "\n",
    "        if option == \"doc\":\n",
    "            current_str.append(f\"Output {idx + 1}: {doc}\")\n",
    "        elif option == \"para\":\n",
    "            current_str.append(f\"Output {idx + 1}: {para}\")\n",
    "        else:\n",
    "            current_str.append(f\"Output {idx + 1}: {sent}\")\n",
    "\n",
    "        current_order.append(option)\n",
    "    \n",
    "    item = \"\\n\\n\".join(current_str)\n",
    "    input_order.append(current_order)\n",
    "    inputs.append(item)\n",
    "\n"
   ]
  },
  {
   "cell_type": "code",
   "execution_count": 7,
   "metadata": {},
   "outputs": [],
   "source": [
    "# Contains the outputs\n",
    "output_dict = {\n",
    "    \"label\": labels,\n",
    "    \"output\": inputs\n",
    "}\n",
    "\n",
    "# Contains the keys corresponding to the output\n",
    "key_dict = {\n",
    "    \"order\": input_order\n",
    "}"
   ]
  },
  {
   "cell_type": "code",
   "execution_count": 8,
   "metadata": {},
   "outputs": [],
   "source": [
    "outputs_df = pd.DataFrame.from_dict(output_dict)\n",
    "key_df = pd.DataFrame.from_dict(key_dict)"
   ]
  },
  {
   "cell_type": "code",
   "execution_count": 9,
   "metadata": {},
   "outputs": [],
   "source": [
    "output_dir = Path(\"/home/li.mil/hierarchical-mds/human_eval/csv\")\n",
    "outputs_df.to_csv(output_dir / \"preference_ranking.csv\", index=False)\n",
    "key_df.to_csv(output_dir / \"preference_ranking_key.csv\", index=False)"
   ]
  }
 ],
 "metadata": {
  "kernelspec": {
   "display_name": "tfs",
   "language": "python",
   "name": "python3"
  },
  "language_info": {
   "codemirror_mode": {
    "name": "ipython",
    "version": 3
   },
   "file_extension": ".py",
   "mimetype": "text/x-python",
   "name": "python",
   "nbconvert_exporter": "python",
   "pygments_lexer": "ipython3",
   "version": "3.10.13"
  }
 },
 "nbformat": 4,
 "nbformat_minor": 2
}
