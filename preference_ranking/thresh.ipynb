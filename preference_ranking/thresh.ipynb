{
 "cells": [
  {
   "cell_type": "code",
   "execution_count": 16,
   "metadata": {},
   "outputs": [],
   "source": [
    "import pandas as pd\n",
    "\n",
    "from thresh import load_interface\n",
    "import git, os, shutil, getpass\n",
    "from github import Github"
   ]
  },
  {
   "cell_type": "code",
   "execution_count": 8,
   "metadata": {},
   "outputs": [
    {
     "data": {
      "text/html": [
       "<div>\n",
       "<style scoped>\n",
       "    .dataframe tbody tr th:only-of-type {\n",
       "        vertical-align: middle;\n",
       "    }\n",
       "\n",
       "    .dataframe tbody tr th {\n",
       "        vertical-align: top;\n",
       "    }\n",
       "\n",
       "    .dataframe thead th {\n",
       "        text-align: right;\n",
       "    }\n",
       "</style>\n",
       "<table border=\"1\" class=\"dataframe\">\n",
       "  <thead>\n",
       "    <tr style=\"text-align: right;\">\n",
       "      <th></th>\n",
       "      <th>Unnamed: 0</th>\n",
       "      <th>label</th>\n",
       "      <th>output</th>\n",
       "    </tr>\n",
       "  </thead>\n",
       "  <tbody>\n",
       "    <tr>\n",
       "      <th>0</th>\n",
       "      <td>0</td>\n",
       "      <td>At present, there is insufficient RCT evidence...</td>\n",
       "      <td>Output 1: The evidence from the provided snipp...</td>\n",
       "    </tr>\n",
       "    <tr>\n",
       "      <th>1</th>\n",
       "      <td>1</td>\n",
       "      <td>There is inadequate evidence to draw strong co...</td>\n",
       "      <td>Output 1: The evidence suggests that various i...</td>\n",
       "    </tr>\n",
       "    <tr>\n",
       "      <th>2</th>\n",
       "      <td>2</td>\n",
       "      <td>Collaborative care is associated with signific...</td>\n",
       "      <td>Output 1: The evidence suggests that collabora...</td>\n",
       "    </tr>\n",
       "    <tr>\n",
       "      <th>3</th>\n",
       "      <td>3</td>\n",
       "      <td>Administration of systemic prophylactic antibi...</td>\n",
       "      <td>Output 1: The evidence from the provided artic...</td>\n",
       "    </tr>\n",
       "    <tr>\n",
       "      <th>4</th>\n",
       "      <td>4</td>\n",
       "      <td>The limited available evidence suggests folate...</td>\n",
       "      <td>Output 1: The evidence from the provided snipp...</td>\n",
       "    </tr>\n",
       "    <tr>\n",
       "      <th>...</th>\n",
       "      <td>...</td>\n",
       "      <td>...</td>\n",
       "      <td>...</td>\n",
       "    </tr>\n",
       "    <tr>\n",
       "      <th>465</th>\n",
       "      <td>465</td>\n",
       "      <td>There was evidence from three pooled RCTs that...</td>\n",
       "      <td>Output 1: The evidence from several studies su...</td>\n",
       "    </tr>\n",
       "    <tr>\n",
       "      <th>466</th>\n",
       "      <td>466</td>\n",
       "      <td>Antibiotic prophylaxis is effective in prevent...</td>\n",
       "      <td>Output 1: The evidence from the provided artic...</td>\n",
       "    </tr>\n",
       "    <tr>\n",
       "      <th>467</th>\n",
       "      <td>467</td>\n",
       "      <td>The practice of surgical and chemical sympathe...</td>\n",
       "      <td>Output 1: The evidence suggests that sympathec...</td>\n",
       "    </tr>\n",
       "    <tr>\n",
       "      <th>468</th>\n",
       "      <td>468</td>\n",
       "      <td>There is not sufficient evidence to support or...</td>\n",
       "      <td>Output 1: The evidence from the provided snipp...</td>\n",
       "    </tr>\n",
       "    <tr>\n",
       "      <th>469</th>\n",
       "      <td>469</td>\n",
       "      <td>There is not enough evidence to recommend any ...</td>\n",
       "      <td>Output 1: The evidence suggests that intervent...</td>\n",
       "    </tr>\n",
       "  </tbody>\n",
       "</table>\n",
       "<p>470 rows × 3 columns</p>\n",
       "</div>"
      ],
      "text/plain": [
       "     Unnamed: 0                                              label  \\\n",
       "0             0  At present, there is insufficient RCT evidence...   \n",
       "1             1  There is inadequate evidence to draw strong co...   \n",
       "2             2  Collaborative care is associated with signific...   \n",
       "3             3  Administration of systemic prophylactic antibi...   \n",
       "4             4  The limited available evidence suggests folate...   \n",
       "..          ...                                                ...   \n",
       "465         465  There was evidence from three pooled RCTs that...   \n",
       "466         466  Antibiotic prophylaxis is effective in prevent...   \n",
       "467         467  The practice of surgical and chemical sympathe...   \n",
       "468         468  There is not sufficient evidence to support or...   \n",
       "469         469  There is not enough evidence to recommend any ...   \n",
       "\n",
       "                                                output  \n",
       "0    Output 1: The evidence from the provided snipp...  \n",
       "1    Output 1: The evidence suggests that various i...  \n",
       "2    Output 1: The evidence suggests that collabora...  \n",
       "3    Output 1: The evidence from the provided artic...  \n",
       "4    Output 1: The evidence from the provided snipp...  \n",
       "..                                                 ...  \n",
       "465  Output 1: The evidence from several studies su...  \n",
       "466  Output 1: The evidence from the provided artic...  \n",
       "467  Output 1: The evidence suggests that sympathec...  \n",
       "468  Output 1: The evidence from the provided snipp...  \n",
       "469  Output 1: The evidence suggests that intervent...  \n",
       "\n",
       "[470 rows x 3 columns]"
      ]
     },
     "execution_count": 8,
     "metadata": {},
     "output_type": "execute_result"
    }
   ],
   "source": [
    "df = pd.read_csv(\"/home/li.mil/hierarchical-mds/human_eval/csv/preference_ranking.csv\")\n",
    "df"
   ]
  },
  {
   "cell_type": "code",
   "execution_count": 9,
   "metadata": {},
   "outputs": [],
   "source": [
    "df.rename(columns={'label':'source', 'output': 'target'}, inplace=True)"
   ]
  },
  {
   "cell_type": "code",
   "execution_count": 10,
   "metadata": {},
   "outputs": [
    {
     "data": {
      "text/html": [
       "<div>\n",
       "<style scoped>\n",
       "    .dataframe tbody tr th:only-of-type {\n",
       "        vertical-align: middle;\n",
       "    }\n",
       "\n",
       "    .dataframe tbody tr th {\n",
       "        vertical-align: top;\n",
       "    }\n",
       "\n",
       "    .dataframe thead th {\n",
       "        text-align: right;\n",
       "    }\n",
       "</style>\n",
       "<table border=\"1\" class=\"dataframe\">\n",
       "  <thead>\n",
       "    <tr style=\"text-align: right;\">\n",
       "      <th></th>\n",
       "      <th>Unnamed: 0</th>\n",
       "      <th>source</th>\n",
       "      <th>target</th>\n",
       "    </tr>\n",
       "  </thead>\n",
       "  <tbody>\n",
       "    <tr>\n",
       "      <th>0</th>\n",
       "      <td>0</td>\n",
       "      <td>At present, there is insufficient RCT evidence...</td>\n",
       "      <td>Output 1: The evidence from the provided snipp...</td>\n",
       "    </tr>\n",
       "    <tr>\n",
       "      <th>1</th>\n",
       "      <td>1</td>\n",
       "      <td>There is inadequate evidence to draw strong co...</td>\n",
       "      <td>Output 1: The evidence suggests that various i...</td>\n",
       "    </tr>\n",
       "    <tr>\n",
       "      <th>2</th>\n",
       "      <td>2</td>\n",
       "      <td>Collaborative care is associated with signific...</td>\n",
       "      <td>Output 1: The evidence suggests that collabora...</td>\n",
       "    </tr>\n",
       "    <tr>\n",
       "      <th>3</th>\n",
       "      <td>3</td>\n",
       "      <td>Administration of systemic prophylactic antibi...</td>\n",
       "      <td>Output 1: The evidence from the provided artic...</td>\n",
       "    </tr>\n",
       "    <tr>\n",
       "      <th>4</th>\n",
       "      <td>4</td>\n",
       "      <td>The limited available evidence suggests folate...</td>\n",
       "      <td>Output 1: The evidence from the provided snipp...</td>\n",
       "    </tr>\n",
       "    <tr>\n",
       "      <th>...</th>\n",
       "      <td>...</td>\n",
       "      <td>...</td>\n",
       "      <td>...</td>\n",
       "    </tr>\n",
       "    <tr>\n",
       "      <th>465</th>\n",
       "      <td>465</td>\n",
       "      <td>There was evidence from three pooled RCTs that...</td>\n",
       "      <td>Output 1: The evidence from several studies su...</td>\n",
       "    </tr>\n",
       "    <tr>\n",
       "      <th>466</th>\n",
       "      <td>466</td>\n",
       "      <td>Antibiotic prophylaxis is effective in prevent...</td>\n",
       "      <td>Output 1: The evidence from the provided artic...</td>\n",
       "    </tr>\n",
       "    <tr>\n",
       "      <th>467</th>\n",
       "      <td>467</td>\n",
       "      <td>The practice of surgical and chemical sympathe...</td>\n",
       "      <td>Output 1: The evidence suggests that sympathec...</td>\n",
       "    </tr>\n",
       "    <tr>\n",
       "      <th>468</th>\n",
       "      <td>468</td>\n",
       "      <td>There is not sufficient evidence to support or...</td>\n",
       "      <td>Output 1: The evidence from the provided snipp...</td>\n",
       "    </tr>\n",
       "    <tr>\n",
       "      <th>469</th>\n",
       "      <td>469</td>\n",
       "      <td>There is not enough evidence to recommend any ...</td>\n",
       "      <td>Output 1: The evidence suggests that intervent...</td>\n",
       "    </tr>\n",
       "  </tbody>\n",
       "</table>\n",
       "<p>470 rows × 3 columns</p>\n",
       "</div>"
      ],
      "text/plain": [
       "     Unnamed: 0                                             source  \\\n",
       "0             0  At present, there is insufficient RCT evidence...   \n",
       "1             1  There is inadequate evidence to draw strong co...   \n",
       "2             2  Collaborative care is associated with signific...   \n",
       "3             3  Administration of systemic prophylactic antibi...   \n",
       "4             4  The limited available evidence suggests folate...   \n",
       "..          ...                                                ...   \n",
       "465         465  There was evidence from three pooled RCTs that...   \n",
       "466         466  Antibiotic prophylaxis is effective in prevent...   \n",
       "467         467  The practice of surgical and chemical sympathe...   \n",
       "468         468  There is not sufficient evidence to support or...   \n",
       "469         469  There is not enough evidence to recommend any ...   \n",
       "\n",
       "                                                target  \n",
       "0    Output 1: The evidence from the provided snipp...  \n",
       "1    Output 1: The evidence suggests that various i...  \n",
       "2    Output 1: The evidence suggests that collabora...  \n",
       "3    Output 1: The evidence from the provided artic...  \n",
       "4    Output 1: The evidence from the provided snipp...  \n",
       "..                                                 ...  \n",
       "465  Output 1: The evidence from several studies su...  \n",
       "466  Output 1: The evidence from the provided artic...  \n",
       "467  Output 1: The evidence suggests that sympathec...  \n",
       "468  Output 1: The evidence from the provided snipp...  \n",
       "469  Output 1: The evidence suggests that intervent...  \n",
       "\n",
       "[470 rows x 3 columns]"
      ]
     },
     "execution_count": 10,
     "metadata": {},
     "output_type": "execute_result"
    }
   ],
   "source": [
    "df"
   ]
  },
  {
   "cell_type": "code",
   "execution_count": 11,
   "metadata": {},
   "outputs": [
    {
     "data": {
      "text/html": [
       "<div>\n",
       "<style scoped>\n",
       "    .dataframe tbody tr th:only-of-type {\n",
       "        vertical-align: middle;\n",
       "    }\n",
       "\n",
       "    .dataframe tbody tr th {\n",
       "        vertical-align: top;\n",
       "    }\n",
       "\n",
       "    .dataframe thead th {\n",
       "        text-align: right;\n",
       "    }\n",
       "</style>\n",
       "<table border=\"1\" class=\"dataframe\">\n",
       "  <thead>\n",
       "    <tr style=\"text-align: right;\">\n",
       "      <th></th>\n",
       "      <th>Unnamed: 0</th>\n",
       "      <th>source</th>\n",
       "      <th>target</th>\n",
       "    </tr>\n",
       "  </thead>\n",
       "  <tbody>\n",
       "    <tr>\n",
       "      <th>0</th>\n",
       "      <td>0</td>\n",
       "      <td>At present, there is insufficient RCT evidence...</td>\n",
       "      <td>Output 1: The evidence from the provided snipp...</td>\n",
       "    </tr>\n",
       "    <tr>\n",
       "      <th>1</th>\n",
       "      <td>1</td>\n",
       "      <td>There is inadequate evidence to draw strong co...</td>\n",
       "      <td>Output 1: The evidence suggests that various i...</td>\n",
       "    </tr>\n",
       "    <tr>\n",
       "      <th>2</th>\n",
       "      <td>2</td>\n",
       "      <td>Collaborative care is associated with signific...</td>\n",
       "      <td>Output 1: The evidence suggests that collabora...</td>\n",
       "    </tr>\n",
       "    <tr>\n",
       "      <th>3</th>\n",
       "      <td>3</td>\n",
       "      <td>Administration of systemic prophylactic antibi...</td>\n",
       "      <td>Output 1: The evidence from the provided artic...</td>\n",
       "    </tr>\n",
       "    <tr>\n",
       "      <th>4</th>\n",
       "      <td>4</td>\n",
       "      <td>The limited available evidence suggests folate...</td>\n",
       "      <td>Output 1: The evidence from the provided snipp...</td>\n",
       "    </tr>\n",
       "  </tbody>\n",
       "</table>\n",
       "</div>"
      ],
      "text/plain": [
       "   Unnamed: 0                                             source  \\\n",
       "0           0  At present, there is insufficient RCT evidence...   \n",
       "1           1  There is inadequate evidence to draw strong co...   \n",
       "2           2  Collaborative care is associated with signific...   \n",
       "3           3  Administration of systemic prophylactic antibi...   \n",
       "4           4  The limited available evidence suggests folate...   \n",
       "\n",
       "                                              target  \n",
       "0  Output 1: The evidence from the provided snipp...  \n",
       "1  Output 1: The evidence suggests that various i...  \n",
       "2  Output 1: The evidence suggests that collabora...  \n",
       "3  Output 1: The evidence from the provided artic...  \n",
       "4  Output 1: The evidence from the provided snipp...  "
      ]
     },
     "execution_count": 11,
     "metadata": {},
     "output_type": "execute_result"
    }
   ],
   "source": [
    "df.head()"
   ]
  },
  {
   "cell_type": "code",
   "execution_count": 12,
   "metadata": {},
   "outputs": [],
   "source": [
    "df.sample(10).to_json(\"cochrane.json\", orient='records')"
   ]
  },
  {
   "cell_type": "code",
   "execution_count": 13,
   "metadata": {},
   "outputs": [],
   "source": [
    "interface = load_interface('interface.yml')"
   ]
  },
  {
   "cell_type": "code",
   "execution_count": 14,
   "metadata": {},
   "outputs": [],
   "source": [
    "local_template_path = \"interface.yml\"\n",
    "local_data_path = \"cochrane.json\"\n",
    "repository_name = \"prolific-deployment-ml\""
   ]
  },
  {
   "cell_type": "code",
   "execution_count": 25,
   "metadata": {},
   "outputs": [],
   "source": [
    "if os.path.exists('.git_credentials'):\n",
    "    # This will read the API token from a local \n",
    "    github_username = \"datalabNU\"\n",
    "    github_token = open('.git_credentials', 'r').read()\n",
    "else:\n",
    "    github_username = input(\"Please enter your GitHub username: \")\n",
    "    github_token = getpass.getpass(\"Please enter your GitHub access token (register a token at github.com/settings/tokens): \")\n",
    "\n",
    "# Log into GitHub\n",
    "g = Github(github_token)\n",
    "user = g.get_user()"
   ]
  },
  {
   "cell_type": "code",
   "execution_count": 27,
   "metadata": {},
   "outputs": [
    {
     "data": {
      "text/plain": [
       "AuthenticatedUser(login=None)"
      ]
     },
     "execution_count": 27,
     "metadata": {},
     "output_type": "execute_result"
    }
   ],
   "source": [
    "user"
   ]
  },
  {
   "cell_type": "code",
   "execution_count": 29,
   "metadata": {},
   "outputs": [
    {
     "name": "stdout",
     "output_type": "stream",
     "text": [
      "millicentli/prolific-deployment-ml\n"
     ]
    }
   ],
   "source": [
    "print(f\"{github_username}/{repository_name}\")"
   ]
  },
  {
   "cell_type": "code",
   "execution_count": 22,
   "metadata": {},
   "outputs": [
    {
     "ename": "UnknownObjectException",
     "evalue": "404 {\"message\": \"Not Found\", \"documentation_url\": \"https://docs.github.com/rest/repos/repos#create-a-repository-for-the-authenticated-user\"}",
     "output_type": "error",
     "traceback": [
      "\u001b[0;31m---------------------------------------------------------------------------\u001b[0m",
      "\u001b[0;31mUnknownObjectException\u001b[0m                    Traceback (most recent call last)",
      "Cell \u001b[0;32mIn[22], line 2\u001b[0m\n\u001b[1;32m      1\u001b[0m \u001b[38;5;28;01mtry\u001b[39;00m:\n\u001b[0;32m----> 2\u001b[0m     remote_repo \u001b[38;5;241m=\u001b[39m \u001b[43mg\u001b[49m\u001b[38;5;241;43m.\u001b[39;49m\u001b[43mget_repo\u001b[49m\u001b[43m(\u001b[49m\u001b[38;5;124;43mf\u001b[39;49m\u001b[38;5;124;43m\"\u001b[39;49m\u001b[38;5;132;43;01m{\u001b[39;49;00m\u001b[43mgithub_username\u001b[49m\u001b[38;5;132;43;01m}\u001b[39;49;00m\u001b[38;5;124;43m/\u001b[39;49m\u001b[38;5;132;43;01m{\u001b[39;49;00m\u001b[43mrepository_name\u001b[49m\u001b[38;5;132;43;01m}\u001b[39;49;00m\u001b[38;5;124;43m\"\u001b[39;49m\u001b[43m)\u001b[49m\u001b[38;5;241m.\u001b[39mclone_url\n\u001b[1;32m      3\u001b[0m     \u001b[38;5;28mprint\u001b[39m(\u001b[38;5;124mf\u001b[39m\u001b[38;5;124m\"\u001b[39m\u001b[38;5;124mFound existing repository: \u001b[39m\u001b[38;5;132;01m{\u001b[39;00mremote_repo\u001b[38;5;132;01m}\u001b[39;00m\u001b[38;5;124m\"\u001b[39m)\n",
      "File \u001b[0;32m~/miniconda3/envs/tfs/lib/python3.10/site-packages/github/MainClass.py:433\u001b[0m, in \u001b[0;36mGithub.get_repo\u001b[0;34m(self, full_name_or_id, lazy)\u001b[0m\n\u001b[1;32m    432\u001b[0m     \u001b[38;5;28;01mreturn\u001b[39;00m github\u001b[38;5;241m.\u001b[39mRepository\u001b[38;5;241m.\u001b[39mRepository(\u001b[38;5;28mself\u001b[39m\u001b[38;5;241m.\u001b[39m__requester, {}, {\u001b[38;5;124m\"\u001b[39m\u001b[38;5;124murl\u001b[39m\u001b[38;5;124m\"\u001b[39m: url}, completed\u001b[38;5;241m=\u001b[39m\u001b[38;5;28;01mFalse\u001b[39;00m)\n\u001b[0;32m--> 433\u001b[0m headers, data \u001b[38;5;241m=\u001b[39m \u001b[38;5;28;43mself\u001b[39;49m\u001b[38;5;241;43m.\u001b[39;49m\u001b[43m__requester\u001b[49m\u001b[38;5;241;43m.\u001b[39;49m\u001b[43mrequestJsonAndCheck\u001b[49m\u001b[43m(\u001b[49m\u001b[38;5;124;43m\"\u001b[39;49m\u001b[38;5;124;43mGET\u001b[39;49m\u001b[38;5;124;43m\"\u001b[39;49m\u001b[43m,\u001b[49m\u001b[43m \u001b[49m\u001b[43murl\u001b[49m\u001b[43m)\u001b[49m\n\u001b[1;32m    434\u001b[0m \u001b[38;5;28;01mreturn\u001b[39;00m github\u001b[38;5;241m.\u001b[39mRepository\u001b[38;5;241m.\u001b[39mRepository(\u001b[38;5;28mself\u001b[39m\u001b[38;5;241m.\u001b[39m__requester, headers, data, completed\u001b[38;5;241m=\u001b[39m\u001b[38;5;28;01mTrue\u001b[39;00m)\n",
      "File \u001b[0;32m~/miniconda3/envs/tfs/lib/python3.10/site-packages/github/Requester.py:548\u001b[0m, in \u001b[0;36mRequester.requestJsonAndCheck\u001b[0;34m(self, verb, url, parameters, headers, input)\u001b[0m\n\u001b[1;32m    540\u001b[0m \u001b[38;5;28;01mdef\u001b[39;00m \u001b[38;5;21mrequestJsonAndCheck\u001b[39m(\n\u001b[1;32m    541\u001b[0m     \u001b[38;5;28mself\u001b[39m,\n\u001b[1;32m    542\u001b[0m     verb: \u001b[38;5;28mstr\u001b[39m,\n\u001b[0;32m   (...)\u001b[0m\n\u001b[1;32m    546\u001b[0m     \u001b[38;5;28minput\u001b[39m: Optional[Any] \u001b[38;5;241m=\u001b[39m \u001b[38;5;28;01mNone\u001b[39;00m,\n\u001b[1;32m    547\u001b[0m ) \u001b[38;5;241m-\u001b[39m\u001b[38;5;241m>\u001b[39m Tuple[Dict[\u001b[38;5;28mstr\u001b[39m, Any], Any]:\n\u001b[0;32m--> 548\u001b[0m     \u001b[38;5;28;01mreturn\u001b[39;00m \u001b[38;5;28;43mself\u001b[39;49m\u001b[38;5;241;43m.\u001b[39;49m\u001b[43m__check\u001b[49m\u001b[43m(\u001b[49m\u001b[38;5;241;43m*\u001b[39;49m\u001b[38;5;28;43mself\u001b[39;49m\u001b[38;5;241;43m.\u001b[39;49m\u001b[43mrequestJson\u001b[49m\u001b[43m(\u001b[49m\u001b[43mverb\u001b[49m\u001b[43m,\u001b[49m\u001b[43m \u001b[49m\u001b[43murl\u001b[49m\u001b[43m,\u001b[49m\u001b[43m \u001b[49m\u001b[43mparameters\u001b[49m\u001b[43m,\u001b[49m\u001b[43m \u001b[49m\u001b[43mheaders\u001b[49m\u001b[43m,\u001b[49m\u001b[43m \u001b[49m\u001b[38;5;28;43minput\u001b[39;49m\u001b[43m,\u001b[49m\u001b[43m \u001b[49m\u001b[38;5;28;43mself\u001b[39;49m\u001b[38;5;241;43m.\u001b[39;49m\u001b[43m__customConnection\u001b[49m\u001b[43m(\u001b[49m\u001b[43murl\u001b[49m\u001b[43m)\u001b[49m\u001b[43m)\u001b[49m\u001b[43m)\u001b[49m\n",
      "File \u001b[0;32m~/miniconda3/envs/tfs/lib/python3.10/site-packages/github/Requester.py:609\u001b[0m, in \u001b[0;36mRequester.__check\u001b[0;34m(self, status, responseHeaders, output)\u001b[0m\n\u001b[1;32m    608\u001b[0m \u001b[38;5;28;01mif\u001b[39;00m status \u001b[38;5;241m>\u001b[39m\u001b[38;5;241m=\u001b[39m \u001b[38;5;241m400\u001b[39m:\n\u001b[0;32m--> 609\u001b[0m     \u001b[38;5;28;01mraise\u001b[39;00m \u001b[38;5;28mself\u001b[39m\u001b[38;5;241m.\u001b[39mcreateException(status, responseHeaders, data)\n\u001b[1;32m    610\u001b[0m \u001b[38;5;28;01mreturn\u001b[39;00m responseHeaders, data\n",
      "\u001b[0;31mUnknownObjectException\u001b[0m: 404 {\"message\": \"Not Found\", \"documentation_url\": \"https://docs.github.com/rest/repos/repos#get-a-repository\"}",
      "\nDuring handling of the above exception, another exception occurred:\n",
      "\u001b[0;31mUnknownObjectException\u001b[0m                    Traceback (most recent call last)",
      "Cell \u001b[0;32mIn[22], line 5\u001b[0m\n\u001b[1;32m      3\u001b[0m     \u001b[38;5;28mprint\u001b[39m(\u001b[38;5;124mf\u001b[39m\u001b[38;5;124m\"\u001b[39m\u001b[38;5;124mFound existing repository: \u001b[39m\u001b[38;5;132;01m{\u001b[39;00mremote_repo\u001b[38;5;132;01m}\u001b[39;00m\u001b[38;5;124m\"\u001b[39m)\n\u001b[1;32m      4\u001b[0m \u001b[38;5;28;01mexcept\u001b[39;00m \u001b[38;5;167;01mException\u001b[39;00m \u001b[38;5;28;01mas\u001b[39;00m e:\n\u001b[0;32m----> 5\u001b[0m     remote_repo \u001b[38;5;241m=\u001b[39m \u001b[43muser\u001b[49m\u001b[38;5;241;43m.\u001b[39;49m\u001b[43mcreate_repo\u001b[49m\u001b[43m(\u001b[49m\u001b[43mrepository_name\u001b[49m\u001b[43m)\u001b[49m\u001b[38;5;241m.\u001b[39mclone_url\n\u001b[1;32m      6\u001b[0m     \u001b[38;5;28mprint\u001b[39m(\u001b[38;5;124mf\u001b[39m\u001b[38;5;124m\"\u001b[39m\u001b[38;5;124mCreated new repository: \u001b[39m\u001b[38;5;132;01m{\u001b[39;00mremote_repo\u001b[38;5;132;01m}\u001b[39;00m\u001b[38;5;124m\"\u001b[39m)\n\u001b[1;32m      8\u001b[0m \u001b[38;5;28;01mif\u001b[39;00m \u001b[38;5;129;01mnot\u001b[39;00m os\u001b[38;5;241m.\u001b[39mpath\u001b[38;5;241m.\u001b[39mexists(repository_name):\n",
      "File \u001b[0;32m~/miniconda3/envs/tfs/lib/python3.10/site-packages/github/AuthenticatedUser.py:616\u001b[0m, in \u001b[0;36mAuthenticatedUser.create_repo\u001b[0;34m(self, name, description, homepage, private, has_issues, has_wiki, has_downloads, has_projects, auto_init, license_template, gitignore_template, allow_squash_merge, allow_merge_commit, allow_rebase_merge, delete_branch_on_merge)\u001b[0m\n\u001b[1;32m    595\u001b[0m \u001b[38;5;28;01massert\u001b[39;00m is_optional(delete_branch_on_merge, \u001b[38;5;28mbool\u001b[39m), delete_branch_on_merge\n\u001b[1;32m    596\u001b[0m post_parameters: \u001b[38;5;28mdict\u001b[39m[\u001b[38;5;28mstr\u001b[39m, Any] \u001b[38;5;241m=\u001b[39m NotSet\u001b[38;5;241m.\u001b[39mremove_unset_items(\n\u001b[1;32m    597\u001b[0m     {\n\u001b[1;32m    598\u001b[0m         \u001b[38;5;124m\"\u001b[39m\u001b[38;5;124mname\u001b[39m\u001b[38;5;124m\"\u001b[39m: name,\n\u001b[0;32m   (...)\u001b[0m\n\u001b[1;32m    613\u001b[0m     }\n\u001b[1;32m    614\u001b[0m )\n\u001b[0;32m--> 616\u001b[0m headers, data \u001b[38;5;241m=\u001b[39m \u001b[38;5;28;43mself\u001b[39;49m\u001b[38;5;241;43m.\u001b[39;49m\u001b[43m_requester\u001b[49m\u001b[38;5;241;43m.\u001b[39;49m\u001b[43mrequestJsonAndCheck\u001b[49m\u001b[43m(\u001b[49m\u001b[38;5;124;43m\"\u001b[39;49m\u001b[38;5;124;43mPOST\u001b[39;49m\u001b[38;5;124;43m\"\u001b[39;49m\u001b[43m,\u001b[49m\u001b[43m \u001b[49m\u001b[38;5;124;43m\"\u001b[39;49m\u001b[38;5;124;43m/user/repos\u001b[39;49m\u001b[38;5;124;43m\"\u001b[39;49m\u001b[43m,\u001b[49m\u001b[43m \u001b[49m\u001b[38;5;28;43minput\u001b[39;49m\u001b[38;5;241;43m=\u001b[39;49m\u001b[43mpost_parameters\u001b[49m\u001b[43m)\u001b[49m\n\u001b[1;32m    617\u001b[0m \u001b[38;5;28;01mreturn\u001b[39;00m github\u001b[38;5;241m.\u001b[39mRepository\u001b[38;5;241m.\u001b[39mRepository(\u001b[38;5;28mself\u001b[39m\u001b[38;5;241m.\u001b[39m_requester, headers, data, completed\u001b[38;5;241m=\u001b[39m\u001b[38;5;28;01mTrue\u001b[39;00m)\n",
      "File \u001b[0;32m~/miniconda3/envs/tfs/lib/python3.10/site-packages/github/Requester.py:548\u001b[0m, in \u001b[0;36mRequester.requestJsonAndCheck\u001b[0;34m(self, verb, url, parameters, headers, input)\u001b[0m\n\u001b[1;32m    540\u001b[0m \u001b[38;5;28;01mdef\u001b[39;00m \u001b[38;5;21mrequestJsonAndCheck\u001b[39m(\n\u001b[1;32m    541\u001b[0m     \u001b[38;5;28mself\u001b[39m,\n\u001b[1;32m    542\u001b[0m     verb: \u001b[38;5;28mstr\u001b[39m,\n\u001b[0;32m   (...)\u001b[0m\n\u001b[1;32m    546\u001b[0m     \u001b[38;5;28minput\u001b[39m: Optional[Any] \u001b[38;5;241m=\u001b[39m \u001b[38;5;28;01mNone\u001b[39;00m,\n\u001b[1;32m    547\u001b[0m ) \u001b[38;5;241m-\u001b[39m\u001b[38;5;241m>\u001b[39m Tuple[Dict[\u001b[38;5;28mstr\u001b[39m, Any], Any]:\n\u001b[0;32m--> 548\u001b[0m     \u001b[38;5;28;01mreturn\u001b[39;00m \u001b[38;5;28;43mself\u001b[39;49m\u001b[38;5;241;43m.\u001b[39;49m\u001b[43m__check\u001b[49m\u001b[43m(\u001b[49m\u001b[38;5;241;43m*\u001b[39;49m\u001b[38;5;28;43mself\u001b[39;49m\u001b[38;5;241;43m.\u001b[39;49m\u001b[43mrequestJson\u001b[49m\u001b[43m(\u001b[49m\u001b[43mverb\u001b[49m\u001b[43m,\u001b[49m\u001b[43m \u001b[49m\u001b[43murl\u001b[49m\u001b[43m,\u001b[49m\u001b[43m \u001b[49m\u001b[43mparameters\u001b[49m\u001b[43m,\u001b[49m\u001b[43m \u001b[49m\u001b[43mheaders\u001b[49m\u001b[43m,\u001b[49m\u001b[43m \u001b[49m\u001b[38;5;28;43minput\u001b[39;49m\u001b[43m,\u001b[49m\u001b[43m \u001b[49m\u001b[38;5;28;43mself\u001b[39;49m\u001b[38;5;241;43m.\u001b[39;49m\u001b[43m__customConnection\u001b[49m\u001b[43m(\u001b[49m\u001b[43murl\u001b[49m\u001b[43m)\u001b[49m\u001b[43m)\u001b[49m\u001b[43m)\u001b[49m\n",
      "File \u001b[0;32m~/miniconda3/envs/tfs/lib/python3.10/site-packages/github/Requester.py:609\u001b[0m, in \u001b[0;36mRequester.__check\u001b[0;34m(self, status, responseHeaders, output)\u001b[0m\n\u001b[1;32m    607\u001b[0m data \u001b[38;5;241m=\u001b[39m \u001b[38;5;28mself\u001b[39m\u001b[38;5;241m.\u001b[39m__structuredFromJson(output)\n\u001b[1;32m    608\u001b[0m \u001b[38;5;28;01mif\u001b[39;00m status \u001b[38;5;241m>\u001b[39m\u001b[38;5;241m=\u001b[39m \u001b[38;5;241m400\u001b[39m:\n\u001b[0;32m--> 609\u001b[0m     \u001b[38;5;28;01mraise\u001b[39;00m \u001b[38;5;28mself\u001b[39m\u001b[38;5;241m.\u001b[39mcreateException(status, responseHeaders, data)\n\u001b[1;32m    610\u001b[0m \u001b[38;5;28;01mreturn\u001b[39;00m responseHeaders, data\n",
      "\u001b[0;31mUnknownObjectException\u001b[0m: 404 {\"message\": \"Not Found\", \"documentation_url\": \"https://docs.github.com/rest/repos/repos#create-a-repository-for-the-authenticated-user\"}"
     ]
    }
   ],
   "source": [
    "try:\n",
    "    remote_repo = g.get_repo(f\"{github_username}/{repository_name}\").clone_url\n",
    "    print(f\"Found existing repository: {remote_repo}\")\n",
    "except Exception as e:\n",
    "    remote_repo = user.create_repo(repository_name).clone_url\n",
    "    print(f\"Created new repository: {remote_repo}\")\n",
    "\n",
    "if not os.path.exists(repository_name):\n",
    "    git.Repo.clone_from(remote_repo, repository_name)\n",
    "\n",
    "repo = git.Repo(repository_name)\n"
   ]
  },
  {
   "cell_type": "code",
   "execution_count": 16,
   "metadata": {},
   "outputs": [],
   "source": [
    "for file_path in [local_template_path, local_data_path]:\n",
    "    template_repo_path = os.path.join(os.getcwd(), repository_name, file_path)\n",
    "    shutil.copy(file_path, template_repo_path)\n",
    "    repo.index.add([template_repo_path])\n",
    "repo.index.commit(\"Add a new interface template and data\")\n",
    "\n",
    "origin = repo.remote(\"origin\")"
   ]
  },
  {
   "cell_type": "code",
   "execution_count": 17,
   "metadata": {},
   "outputs": [
    {
     "name": "stdout",
     "output_type": "stream",
     "text": [
      "Pushed changes to https://github.com/datalabNU/prolific-deployment.git\n"
     ]
    }
   ],
   "source": [
    "origin.push()\n",
    "print(f\"Pushed changes to {remote_repo}\")"
   ]
  },
  {
   "cell_type": "code",
   "execution_count": 18,
   "metadata": {},
   "outputs": [
    {
     "name": "stdout",
     "output_type": "stream",
     "text": [
      "Hosted template: datalabNU/prolific-deployment/master/interface.yml\n",
      "Hosted data: datalabNU/prolific-deployment/master/quarel.json\n"
     ]
    }
   ],
   "source": [
    "template_path = f\"{github_username}/{repository_name}/master/{local_template_path}\"\n",
    "data_path = f\"{github_username}/{repository_name}/master/{local_data_path}\"\n",
    "\n",
    "print(f\"Hosted template: {template_path}\")\n",
    "print(f\"Hosted data: {data_path}\")"
   ]
  },
  {
   "cell_type": "code",
   "execution_count": 19,
   "metadata": {},
   "outputs": [],
   "source": [
    "study_url = f\"https://thresh.tools/?gh={template_path}\"\n",
    "study_url = study_url + \"&PROLIFIC_PID={%PROLIFIC_PID%}&STUDY_ID={%STUDY_ID%}&SESSION_ID={%SESSION_ID%}\""
   ]
  },
  {
   "cell_type": "code",
   "execution_count": 20,
   "metadata": {},
   "outputs": [
    {
     "name": "stdout",
     "output_type": "stream",
     "text": [
      "View your hosted template here:\t\t  https://thresh.tools/?gh=datalabNU/prolific-deployment/master/interface.yml&PROLIFIC_PID={%PROLIFIC_PID%}&STUDY_ID={%STUDY_ID%}&SESSION_ID={%SESSION_ID%}\n",
      "Your study (with data) will be linked to: https://thresh.tools/?gh=datalabNU/prolific-deployment/master/interface.yml&PROLIFIC_PID={%PROLIFIC_PID%}&STUDY_ID={%STUDY_ID%}&SESSION_ID={%SESSION_ID%}&d=datalabNU/prolific-deployment/master/quarel.json\n"
     ]
    }
   ],
   "source": [
    "print(f\"View your hosted template here:\\t\\t  {study_url}\")\n",
    "\n",
    "study_url = f\"{study_url}&d={data_path}\"\n",
    "\n",
    "print(f\"Your study (with data) will be linked to: {study_url}\")"
   ]
  },
  {
   "cell_type": "code",
   "execution_count": null,
   "metadata": {},
   "outputs": [],
   "source": []
  }
 ],
 "metadata": {
  "kernelspec": {
   "display_name": "tfs",
   "language": "python",
   "name": "tfs"
  },
  "language_info": {
   "codemirror_mode": {
    "name": "ipython",
    "version": 3
   },
   "file_extension": ".py",
   "mimetype": "text/x-python",
   "name": "python",
   "nbconvert_exporter": "python",
   "pygments_lexer": "ipython3",
   "version": "3.10.13"
  }
 },
 "nbformat": 4,
 "nbformat_minor": 2
}
