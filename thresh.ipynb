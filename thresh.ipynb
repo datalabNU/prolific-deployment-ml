{
 "cells": [
  {
   "cell_type": "code",
   "execution_count": 17,
   "metadata": {},
   "outputs": [],
   "source": [
    "import pandas as pd\n",
    "\n",
    "from thresh import load_interface\n",
    "import os, getpass"
   ]
  },
  {
   "cell_type": "code",
   "execution_count": 18,
   "metadata": {},
   "outputs": [
    {
     "data": {
      "text/html": [
       "<div>\n",
       "<style scoped>\n",
       "    .dataframe tbody tr th:only-of-type {\n",
       "        vertical-align: middle;\n",
       "    }\n",
       "\n",
       "    .dataframe tbody tr th {\n",
       "        vertical-align: top;\n",
       "    }\n",
       "\n",
       "    .dataframe thead th {\n",
       "        text-align: right;\n",
       "    }\n",
       "</style>\n",
       "<table border=\"1\" class=\"dataframe\">\n",
       "  <thead>\n",
       "    <tr style=\"text-align: right;\">\n",
       "      <th></th>\n",
       "      <th>label</th>\n",
       "      <th>output</th>\n",
       "    </tr>\n",
       "  </thead>\n",
       "  <tbody>\n",
       "    <tr>\n",
       "      <th>0</th>\n",
       "      <td>At present, there is insufficient RCT evidence...</td>\n",
       "      <td>Output 1: The provided articles suggest that b...</td>\n",
       "    </tr>\n",
       "    <tr>\n",
       "      <th>1</th>\n",
       "      <td>There is inadequate evidence to draw strong co...</td>\n",
       "      <td>Output 1: The evidence from the provided artic...</td>\n",
       "    </tr>\n",
       "    <tr>\n",
       "      <th>2</th>\n",
       "      <td>Collaborative care is associated with signific...</td>\n",
       "      <td>Output 1: The articles provide evidence that c...</td>\n",
       "    </tr>\n",
       "    <tr>\n",
       "      <th>3</th>\n",
       "      <td>Administration of systemic prophylactic antibi...</td>\n",
       "      <td>Output 1: The evidence suggests that systemic ...</td>\n",
       "    </tr>\n",
       "    <tr>\n",
       "      <th>4</th>\n",
       "      <td>The limited available evidence suggests folate...</td>\n",
       "      <td>Output 1: The articles suggest that folate sup...</td>\n",
       "    </tr>\n",
       "    <tr>\n",
       "      <th>...</th>\n",
       "      <td>...</td>\n",
       "      <td>...</td>\n",
       "    </tr>\n",
       "    <tr>\n",
       "      <th>465</th>\n",
       "      <td>There was evidence from three pooled RCTs that...</td>\n",
       "      <td>Output 1: The evidence from randomized trials ...</td>\n",
       "    </tr>\n",
       "    <tr>\n",
       "      <th>466</th>\n",
       "      <td>Antibiotic prophylaxis is effective in prevent...</td>\n",
       "      <td>Output 1: The evidence from the provided artic...</td>\n",
       "    </tr>\n",
       "    <tr>\n",
       "      <th>467</th>\n",
       "      <td>The practice of surgical and chemical sympathe...</td>\n",
       "      <td>Output 1: The evidence from the provided artic...</td>\n",
       "    </tr>\n",
       "    <tr>\n",
       "      <th>468</th>\n",
       "      <td>There is not sufficient evidence to support or...</td>\n",
       "      <td>Output 1: The evidence from the provided artic...</td>\n",
       "    </tr>\n",
       "    <tr>\n",
       "      <th>469</th>\n",
       "      <td>There is not enough evidence to recommend any ...</td>\n",
       "      <td>Output 1: The evidence from the provided artic...</td>\n",
       "    </tr>\n",
       "  </tbody>\n",
       "</table>\n",
       "<p>470 rows × 2 columns</p>\n",
       "</div>"
      ],
      "text/plain": [
       "                                                 label  \\\n",
       "0    At present, there is insufficient RCT evidence...   \n",
       "1    There is inadequate evidence to draw strong co...   \n",
       "2    Collaborative care is associated with signific...   \n",
       "3    Administration of systemic prophylactic antibi...   \n",
       "4    The limited available evidence suggests folate...   \n",
       "..                                                 ...   \n",
       "465  There was evidence from three pooled RCTs that...   \n",
       "466  Antibiotic prophylaxis is effective in prevent...   \n",
       "467  The practice of surgical and chemical sympathe...   \n",
       "468  There is not sufficient evidence to support or...   \n",
       "469  There is not enough evidence to recommend any ...   \n",
       "\n",
       "                                                output  \n",
       "0    Output 1: The provided articles suggest that b...  \n",
       "1    Output 1: The evidence from the provided artic...  \n",
       "2    Output 1: The articles provide evidence that c...  \n",
       "3    Output 1: The evidence suggests that systemic ...  \n",
       "4    Output 1: The articles suggest that folate sup...  \n",
       "..                                                 ...  \n",
       "465  Output 1: The evidence from randomized trials ...  \n",
       "466  Output 1: The evidence from the provided artic...  \n",
       "467  Output 1: The evidence from the provided artic...  \n",
       "468  Output 1: The evidence from the provided artic...  \n",
       "469  Output 1: The evidence from the provided artic...  \n",
       "\n",
       "[470 rows x 2 columns]"
      ]
     },
     "execution_count": 18,
     "metadata": {},
     "output_type": "execute_result"
    }
   ],
   "source": [
    "df = pd.read_csv(\"/home/li.mil/hierarchical-mds/human_eval/csv/preference_ranking.csv\")\n",
    "df"
   ]
  },
  {
   "cell_type": "code",
   "execution_count": 19,
   "metadata": {},
   "outputs": [],
   "source": [
    "df.rename(columns={'label':'source', 'output': 'target'}, inplace=True)"
   ]
  },
  {
   "cell_type": "code",
   "execution_count": 20,
   "metadata": {},
   "outputs": [
    {
     "data": {
      "text/html": [
       "<div>\n",
       "<style scoped>\n",
       "    .dataframe tbody tr th:only-of-type {\n",
       "        vertical-align: middle;\n",
       "    }\n",
       "\n",
       "    .dataframe tbody tr th {\n",
       "        vertical-align: top;\n",
       "    }\n",
       "\n",
       "    .dataframe thead th {\n",
       "        text-align: right;\n",
       "    }\n",
       "</style>\n",
       "<table border=\"1\" class=\"dataframe\">\n",
       "  <thead>\n",
       "    <tr style=\"text-align: right;\">\n",
       "      <th></th>\n",
       "      <th>source</th>\n",
       "      <th>target</th>\n",
       "    </tr>\n",
       "  </thead>\n",
       "  <tbody>\n",
       "    <tr>\n",
       "      <th>0</th>\n",
       "      <td>At present, there is insufficient RCT evidence...</td>\n",
       "      <td>Output 1: The provided articles suggest that b...</td>\n",
       "    </tr>\n",
       "    <tr>\n",
       "      <th>1</th>\n",
       "      <td>There is inadequate evidence to draw strong co...</td>\n",
       "      <td>Output 1: The evidence from the provided artic...</td>\n",
       "    </tr>\n",
       "    <tr>\n",
       "      <th>2</th>\n",
       "      <td>Collaborative care is associated with signific...</td>\n",
       "      <td>Output 1: The articles provide evidence that c...</td>\n",
       "    </tr>\n",
       "    <tr>\n",
       "      <th>3</th>\n",
       "      <td>Administration of systemic prophylactic antibi...</td>\n",
       "      <td>Output 1: The evidence suggests that systemic ...</td>\n",
       "    </tr>\n",
       "    <tr>\n",
       "      <th>4</th>\n",
       "      <td>The limited available evidence suggests folate...</td>\n",
       "      <td>Output 1: The articles suggest that folate sup...</td>\n",
       "    </tr>\n",
       "  </tbody>\n",
       "</table>\n",
       "</div>"
      ],
      "text/plain": [
       "                                              source  \\\n",
       "0  At present, there is insufficient RCT evidence...   \n",
       "1  There is inadequate evidence to draw strong co...   \n",
       "2  Collaborative care is associated with signific...   \n",
       "3  Administration of systemic prophylactic antibi...   \n",
       "4  The limited available evidence suggests folate...   \n",
       "\n",
       "                                              target  \n",
       "0  Output 1: The provided articles suggest that b...  \n",
       "1  Output 1: The evidence from the provided artic...  \n",
       "2  Output 1: The articles provide evidence that c...  \n",
       "3  Output 1: The evidence suggests that systemic ...  \n",
       "4  Output 1: The articles suggest that folate sup...  "
      ]
     },
     "execution_count": 20,
     "metadata": {},
     "output_type": "execute_result"
    }
   ],
   "source": [
    "df.head()"
   ]
  },
  {
   "cell_type": "code",
   "execution_count": 21,
   "metadata": {},
   "outputs": [],
   "source": [
    "df.sample(10).to_json(\"cochrane.json\", orient='records')"
   ]
  },
  {
   "cell_type": "code",
   "execution_count": 22,
   "metadata": {},
   "outputs": [],
   "source": [
    "interface = load_interface('interface.yml')"
   ]
  },
  {
   "cell_type": "code",
   "execution_count": 23,
   "metadata": {},
   "outputs": [],
   "source": [
    "local_template_path = \"interface.yml\"\n",
    "local_data_path = \"cochrane.json\"\n",
    "repository_name = \"prolific-deployment-ml\""
   ]
  },
  {
   "cell_type": "code",
   "execution_count": 24,
   "metadata": {},
   "outputs": [],
   "source": [
    "if os.path.exists('.git_credentials'):\n",
    "    # This will read the API token from a local \n",
    "    github_username = \"datalabNU\"\n",
    "    github_token = open('.git_credentials', 'r').read()\n",
    "else:\n",
    "    github_username = input(\"Please enter your GitHub username: \")\n",
    "    github_token = getpass.getpass(\"Please enter your GitHub access token (register a token at github.com/settings/tokens): \")"
   ]
  },
  {
   "cell_type": "code",
   "execution_count": 25,
   "metadata": {},
   "outputs": [
    {
     "name": "stdout",
     "output_type": "stream",
     "text": [
      "Hosted template: datalabNU/prolific-deployment-ml/master/interface.yml\n",
      "Hosted data: datalabNU/prolific-deployment-ml/master/cochrane.json\n"
     ]
    }
   ],
   "source": [
    "template_path = f\"{github_username}/{repository_name}/master/{local_template_path}\"\n",
    "data_path = f\"{github_username}/{repository_name}/master/{local_data_path}\"\n",
    "\n",
    "print(f\"Hosted template: {template_path}\")\n",
    "print(f\"Hosted data: {data_path}\")"
   ]
  },
  {
   "cell_type": "code",
   "execution_count": 26,
   "metadata": {},
   "outputs": [],
   "source": [
    "study_url = f\"https://thresh.tools/?gh={template_path}\"\n",
    "study_url = study_url + \"&PROLIFIC_PID={%PROLIFIC_PID%}&STUDY_ID={%STUDY_ID%}&SESSION_ID={%SESSION_ID%}\""
   ]
  },
  {
   "cell_type": "code",
   "execution_count": 27,
   "metadata": {},
   "outputs": [
    {
     "name": "stdout",
     "output_type": "stream",
     "text": [
      "View your hosted template here:\t\t  https://thresh.tools/?gh=datalabNU/prolific-deployment-ml/master/interface.yml&PROLIFIC_PID={%PROLIFIC_PID%}&STUDY_ID={%STUDY_ID%}&SESSION_ID={%SESSION_ID%}\n",
      "Your study (with data) will be linked to: https://thresh.tools/?gh=datalabNU/prolific-deployment-ml/master/interface.yml&PROLIFIC_PID={%PROLIFIC_PID%}&STUDY_ID={%STUDY_ID%}&SESSION_ID={%SESSION_ID%}&d=datalabNU/prolific-deployment-ml/master/cochrane.json\n"
     ]
    }
   ],
   "source": [
    "print(f\"View your hosted template here:\\t\\t  {study_url}\")\n",
    "\n",
    "study_url = f\"{study_url}&d={data_path}\"\n",
    "\n",
    "print(f\"Your study (with data) will be linked to: {study_url}\")"
   ]
  }
 ],
 "metadata": {
  "kernelspec": {
   "display_name": "tfs",
   "language": "python",
   "name": "python3"
  },
  "language_info": {
   "codemirror_mode": {
    "name": "ipython",
    "version": 3
   },
   "file_extension": ".py",
   "mimetype": "text/x-python",
   "name": "python",
   "nbconvert_exporter": "python",
   "pygments_lexer": "ipython3",
   "version": "3.10.13"
  }
 },
 "nbformat": 4,
 "nbformat_minor": 2
}
