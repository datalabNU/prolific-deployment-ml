{
 "cells": [
  {
   "cell_type": "code",
   "execution_count": 18,
   "metadata": {},
   "outputs": [],
   "source": [
    "import pandas as pd\n",
    "\n",
    "from thresh import load_interface\n",
    "import git, os, shutil, getpass\n",
    "from github import Github"
   ]
  },
  {
   "cell_type": "code",
   "execution_count": 19,
   "metadata": {},
   "outputs": [
    {
     "data": {
      "text/html": [
       "<div>\n",
       "<style scoped>\n",
       "    .dataframe tbody tr th:only-of-type {\n",
       "        vertical-align: middle;\n",
       "    }\n",
       "\n",
       "    .dataframe tbody tr th {\n",
       "        vertical-align: top;\n",
       "    }\n",
       "\n",
       "    .dataframe thead th {\n",
       "        text-align: right;\n",
       "    }\n",
       "</style>\n",
       "<table border=\"1\" class=\"dataframe\">\n",
       "  <thead>\n",
       "    <tr style=\"text-align: right;\">\n",
       "      <th></th>\n",
       "      <th>label</th>\n",
       "      <th>output</th>\n",
       "    </tr>\n",
       "  </thead>\n",
       "  <tbody>\n",
       "    <tr>\n",
       "      <th>0</th>\n",
       "      <td>At present, there is insufficient RCT evidence...</td>\n",
       "      <td>Output 1: The provided snippets suggest that b...</td>\n",
       "    </tr>\n",
       "    <tr>\n",
       "      <th>1</th>\n",
       "      <td>There is inadequate evidence to draw strong co...</td>\n",
       "      <td>Output 1: The evidence suggests that various i...</td>\n",
       "    </tr>\n",
       "    <tr>\n",
       "      <th>2</th>\n",
       "      <td>Collaborative care is associated with signific...</td>\n",
       "      <td>Output 1: The articles provide evidence that c...</td>\n",
       "    </tr>\n",
       "    <tr>\n",
       "      <th>3</th>\n",
       "      <td>Administration of systemic prophylactic antibi...</td>\n",
       "      <td>Output 1: The evidence suggests that antibioti...</td>\n",
       "    </tr>\n",
       "    <tr>\n",
       "      <th>4</th>\n",
       "      <td>The limited available evidence suggests folate...</td>\n",
       "      <td>Output 1: The articles suggest that folate sup...</td>\n",
       "    </tr>\n",
       "    <tr>\n",
       "      <th>...</th>\n",
       "      <td>...</td>\n",
       "      <td>...</td>\n",
       "    </tr>\n",
       "    <tr>\n",
       "      <th>465</th>\n",
       "      <td>There was evidence from three pooled RCTs that...</td>\n",
       "      <td>Output 1: The evidence from in vitro, animal s...</td>\n",
       "    </tr>\n",
       "    <tr>\n",
       "      <th>466</th>\n",
       "      <td>Antibiotic prophylaxis is effective in prevent...</td>\n",
       "      <td>Output 1: The evidence from the provided snipp...</td>\n",
       "    </tr>\n",
       "    <tr>\n",
       "      <th>467</th>\n",
       "      <td>The practice of surgical and chemical sympathe...</td>\n",
       "      <td>Output 1: The evidence suggests that sympathec...</td>\n",
       "    </tr>\n",
       "    <tr>\n",
       "      <th>468</th>\n",
       "      <td>There is not sufficient evidence to support or...</td>\n",
       "      <td>Output 1: The evidence from the provided artic...</td>\n",
       "    </tr>\n",
       "    <tr>\n",
       "      <th>469</th>\n",
       "      <td>There is not enough evidence to recommend any ...</td>\n",
       "      <td>Output 1: The evidence from the provided artic...</td>\n",
       "    </tr>\n",
       "  </tbody>\n",
       "</table>\n",
       "<p>470 rows × 2 columns</p>\n",
       "</div>"
      ],
      "text/plain": [
       "                                                 label  \\\n",
       "0    At present, there is insufficient RCT evidence...   \n",
       "1    There is inadequate evidence to draw strong co...   \n",
       "2    Collaborative care is associated with signific...   \n",
       "3    Administration of systemic prophylactic antibi...   \n",
       "4    The limited available evidence suggests folate...   \n",
       "..                                                 ...   \n",
       "465  There was evidence from three pooled RCTs that...   \n",
       "466  Antibiotic prophylaxis is effective in prevent...   \n",
       "467  The practice of surgical and chemical sympathe...   \n",
       "468  There is not sufficient evidence to support or...   \n",
       "469  There is not enough evidence to recommend any ...   \n",
       "\n",
       "                                                output  \n",
       "0    Output 1: The provided snippets suggest that b...  \n",
       "1    Output 1: The evidence suggests that various i...  \n",
       "2    Output 1: The articles provide evidence that c...  \n",
       "3    Output 1: The evidence suggests that antibioti...  \n",
       "4    Output 1: The articles suggest that folate sup...  \n",
       "..                                                 ...  \n",
       "465  Output 1: The evidence from in vitro, animal s...  \n",
       "466  Output 1: The evidence from the provided snipp...  \n",
       "467  Output 1: The evidence suggests that sympathec...  \n",
       "468  Output 1: The evidence from the provided artic...  \n",
       "469  Output 1: The evidence from the provided artic...  \n",
       "\n",
       "[470 rows x 2 columns]"
      ]
     },
     "execution_count": 19,
     "metadata": {},
     "output_type": "execute_result"
    }
   ],
   "source": [
    "df = pd.read_csv(\"/home/li.mil/hierarchical-mds/human_eval/csv/preference_ranking.csv\")\n",
    "df"
   ]
  },
  {
   "cell_type": "code",
   "execution_count": 20,
   "metadata": {},
   "outputs": [],
   "source": [
    "df.rename(columns={'label':'source', 'output': 'target'}, inplace=True)"
   ]
  },
  {
   "cell_type": "code",
   "execution_count": 21,
   "metadata": {},
   "outputs": [
    {
     "data": {
      "text/html": [
       "<div>\n",
       "<style scoped>\n",
       "    .dataframe tbody tr th:only-of-type {\n",
       "        vertical-align: middle;\n",
       "    }\n",
       "\n",
       "    .dataframe tbody tr th {\n",
       "        vertical-align: top;\n",
       "    }\n",
       "\n",
       "    .dataframe thead th {\n",
       "        text-align: right;\n",
       "    }\n",
       "</style>\n",
       "<table border=\"1\" class=\"dataframe\">\n",
       "  <thead>\n",
       "    <tr style=\"text-align: right;\">\n",
       "      <th></th>\n",
       "      <th>source</th>\n",
       "      <th>target</th>\n",
       "    </tr>\n",
       "  </thead>\n",
       "  <tbody>\n",
       "    <tr>\n",
       "      <th>0</th>\n",
       "      <td>At present, there is insufficient RCT evidence...</td>\n",
       "      <td>Output 1: The provided snippets suggest that b...</td>\n",
       "    </tr>\n",
       "    <tr>\n",
       "      <th>1</th>\n",
       "      <td>There is inadequate evidence to draw strong co...</td>\n",
       "      <td>Output 1: The evidence suggests that various i...</td>\n",
       "    </tr>\n",
       "    <tr>\n",
       "      <th>2</th>\n",
       "      <td>Collaborative care is associated with signific...</td>\n",
       "      <td>Output 1: The articles provide evidence that c...</td>\n",
       "    </tr>\n",
       "    <tr>\n",
       "      <th>3</th>\n",
       "      <td>Administration of systemic prophylactic antibi...</td>\n",
       "      <td>Output 1: The evidence suggests that antibioti...</td>\n",
       "    </tr>\n",
       "    <tr>\n",
       "      <th>4</th>\n",
       "      <td>The limited available evidence suggests folate...</td>\n",
       "      <td>Output 1: The articles suggest that folate sup...</td>\n",
       "    </tr>\n",
       "    <tr>\n",
       "      <th>...</th>\n",
       "      <td>...</td>\n",
       "      <td>...</td>\n",
       "    </tr>\n",
       "    <tr>\n",
       "      <th>465</th>\n",
       "      <td>There was evidence from three pooled RCTs that...</td>\n",
       "      <td>Output 1: The evidence from in vitro, animal s...</td>\n",
       "    </tr>\n",
       "    <tr>\n",
       "      <th>466</th>\n",
       "      <td>Antibiotic prophylaxis is effective in prevent...</td>\n",
       "      <td>Output 1: The evidence from the provided snipp...</td>\n",
       "    </tr>\n",
       "    <tr>\n",
       "      <th>467</th>\n",
       "      <td>The practice of surgical and chemical sympathe...</td>\n",
       "      <td>Output 1: The evidence suggests that sympathec...</td>\n",
       "    </tr>\n",
       "    <tr>\n",
       "      <th>468</th>\n",
       "      <td>There is not sufficient evidence to support or...</td>\n",
       "      <td>Output 1: The evidence from the provided artic...</td>\n",
       "    </tr>\n",
       "    <tr>\n",
       "      <th>469</th>\n",
       "      <td>There is not enough evidence to recommend any ...</td>\n",
       "      <td>Output 1: The evidence from the provided artic...</td>\n",
       "    </tr>\n",
       "  </tbody>\n",
       "</table>\n",
       "<p>470 rows × 2 columns</p>\n",
       "</div>"
      ],
      "text/plain": [
       "                                                source  \\\n",
       "0    At present, there is insufficient RCT evidence...   \n",
       "1    There is inadequate evidence to draw strong co...   \n",
       "2    Collaborative care is associated with signific...   \n",
       "3    Administration of systemic prophylactic antibi...   \n",
       "4    The limited available evidence suggests folate...   \n",
       "..                                                 ...   \n",
       "465  There was evidence from three pooled RCTs that...   \n",
       "466  Antibiotic prophylaxis is effective in prevent...   \n",
       "467  The practice of surgical and chemical sympathe...   \n",
       "468  There is not sufficient evidence to support or...   \n",
       "469  There is not enough evidence to recommend any ...   \n",
       "\n",
       "                                                target  \n",
       "0    Output 1: The provided snippets suggest that b...  \n",
       "1    Output 1: The evidence suggests that various i...  \n",
       "2    Output 1: The articles provide evidence that c...  \n",
       "3    Output 1: The evidence suggests that antibioti...  \n",
       "4    Output 1: The articles suggest that folate sup...  \n",
       "..                                                 ...  \n",
       "465  Output 1: The evidence from in vitro, animal s...  \n",
       "466  Output 1: The evidence from the provided snipp...  \n",
       "467  Output 1: The evidence suggests that sympathec...  \n",
       "468  Output 1: The evidence from the provided artic...  \n",
       "469  Output 1: The evidence from the provided artic...  \n",
       "\n",
       "[470 rows x 2 columns]"
      ]
     },
     "execution_count": 21,
     "metadata": {},
     "output_type": "execute_result"
    }
   ],
   "source": [
    "df"
   ]
  },
  {
   "cell_type": "code",
   "execution_count": 22,
   "metadata": {},
   "outputs": [
    {
     "data": {
      "text/html": [
       "<div>\n",
       "<style scoped>\n",
       "    .dataframe tbody tr th:only-of-type {\n",
       "        vertical-align: middle;\n",
       "    }\n",
       "\n",
       "    .dataframe tbody tr th {\n",
       "        vertical-align: top;\n",
       "    }\n",
       "\n",
       "    .dataframe thead th {\n",
       "        text-align: right;\n",
       "    }\n",
       "</style>\n",
       "<table border=\"1\" class=\"dataframe\">\n",
       "  <thead>\n",
       "    <tr style=\"text-align: right;\">\n",
       "      <th></th>\n",
       "      <th>source</th>\n",
       "      <th>target</th>\n",
       "    </tr>\n",
       "  </thead>\n",
       "  <tbody>\n",
       "    <tr>\n",
       "      <th>0</th>\n",
       "      <td>At present, there is insufficient RCT evidence...</td>\n",
       "      <td>Output 1: The provided snippets suggest that b...</td>\n",
       "    </tr>\n",
       "    <tr>\n",
       "      <th>1</th>\n",
       "      <td>There is inadequate evidence to draw strong co...</td>\n",
       "      <td>Output 1: The evidence suggests that various i...</td>\n",
       "    </tr>\n",
       "    <tr>\n",
       "      <th>2</th>\n",
       "      <td>Collaborative care is associated with signific...</td>\n",
       "      <td>Output 1: The articles provide evidence that c...</td>\n",
       "    </tr>\n",
       "    <tr>\n",
       "      <th>3</th>\n",
       "      <td>Administration of systemic prophylactic antibi...</td>\n",
       "      <td>Output 1: The evidence suggests that antibioti...</td>\n",
       "    </tr>\n",
       "    <tr>\n",
       "      <th>4</th>\n",
       "      <td>The limited available evidence suggests folate...</td>\n",
       "      <td>Output 1: The articles suggest that folate sup...</td>\n",
       "    </tr>\n",
       "  </tbody>\n",
       "</table>\n",
       "</div>"
      ],
      "text/plain": [
       "                                              source  \\\n",
       "0  At present, there is insufficient RCT evidence...   \n",
       "1  There is inadequate evidence to draw strong co...   \n",
       "2  Collaborative care is associated with signific...   \n",
       "3  Administration of systemic prophylactic antibi...   \n",
       "4  The limited available evidence suggests folate...   \n",
       "\n",
       "                                              target  \n",
       "0  Output 1: The provided snippets suggest that b...  \n",
       "1  Output 1: The evidence suggests that various i...  \n",
       "2  Output 1: The articles provide evidence that c...  \n",
       "3  Output 1: The evidence suggests that antibioti...  \n",
       "4  Output 1: The articles suggest that folate sup...  "
      ]
     },
     "execution_count": 22,
     "metadata": {},
     "output_type": "execute_result"
    }
   ],
   "source": [
    "df.head()"
   ]
  },
  {
   "cell_type": "code",
   "execution_count": 23,
   "metadata": {},
   "outputs": [],
   "source": [
    "df.sample(10).to_json(\"cochrane.json\", orient='records')"
   ]
  },
  {
   "cell_type": "code",
   "execution_count": 24,
   "metadata": {},
   "outputs": [],
   "source": [
    "interface = load_interface('interface.yml')"
   ]
  },
  {
   "cell_type": "code",
   "execution_count": 25,
   "metadata": {},
   "outputs": [],
   "source": [
    "local_template_path = \"interface.yml\"\n",
    "local_data_path = \"cochrane.json\"\n",
    "repository_name = \"prolific-deployment-ml\""
   ]
  },
  {
   "cell_type": "code",
   "execution_count": 26,
   "metadata": {},
   "outputs": [],
   "source": [
    "if os.path.exists('.git_credentials'):\n",
    "    # This will read the API token from a local \n",
    "    github_username = \"datalabNU\"\n",
    "    github_token = open('.git_credentials', 'r').read()\n",
    "else:\n",
    "    github_username = input(\"Please enter your GitHub username: \")\n",
    "    github_token = getpass.getpass(\"Please enter your GitHub access token (register a token at github.com/settings/tokens): \")\n",
    "\n",
    "# Log into GitHub\n",
    "g = Github(github_token)\n",
    "user = g.get_user()"
   ]
  },
  {
   "cell_type": "code",
   "execution_count": 13,
   "metadata": {},
   "outputs": [
    {
     "name": "stdout",
     "output_type": "stream",
     "text": [
      "Found existing repository: https://github.com/datalabNU/prolific-deployment-ml.git\n"
     ]
    }
   ],
   "source": [
    "try:\n",
    "    remote_repo = g.get_repo(f\"{github_username}/{repository_name}\").clone_url\n",
    "    print(f\"Found existing repository: {remote_repo}\")\n",
    "except Exception as e:\n",
    "    remote_repo = user.create_repo(repository_name).clone_url\n",
    "    print(f\"Created new repository: {remote_repo}\")\n",
    "\n",
    "if not os.path.exists(repository_name):\n",
    "    git.Repo.clone_from(remote_repo, repository_name)\n",
    "\n",
    "repo = git.Repo(repository_name)\n"
   ]
  },
  {
   "cell_type": "code",
   "execution_count": 14,
   "metadata": {},
   "outputs": [],
   "source": [
    "for file_path in [local_template_path, local_data_path]:\n",
    "    template_repo_path = os.path.join(os.getcwd(), repository_name, file_path)\n",
    "    shutil.copy(file_path, template_repo_path)\n",
    "    repo.index.add([template_repo_path])\n",
    "repo.index.commit(\"Add a new interface template and data\")\n",
    "\n",
    "origin = repo.remote(\"origin\")"
   ]
  },
  {
   "cell_type": "code",
   "execution_count": 28,
   "metadata": {},
   "outputs": [
    {
     "ename": "GitCommandError",
     "evalue": "Cmd('git') failed due to: exit code(128)\n  cmdline: git push --porcelain -- origin\n  stderr: 'fatal: could not read Username for 'https://github.com': No such device or address'",
     "output_type": "error",
     "traceback": [
      "\u001b[0;31m---------------------------------------------------------------------------\u001b[0m",
      "\u001b[0;31mGitCommandError\u001b[0m                           Traceback (most recent call last)",
      "Cell \u001b[0;32mIn[28], line 1\u001b[0m\n\u001b[0;32m----> 1\u001b[0m \u001b[43morigin\u001b[49m\u001b[38;5;241;43m.\u001b[39;49m\u001b[43mpush\u001b[49m\u001b[43m(\u001b[49m\u001b[43m)\u001b[49m\n\u001b[1;32m      2\u001b[0m \u001b[38;5;28mprint\u001b[39m(\u001b[38;5;124mf\u001b[39m\u001b[38;5;124m\"\u001b[39m\u001b[38;5;124mPushed changes to \u001b[39m\u001b[38;5;132;01m{\u001b[39;00mremote_repo\u001b[38;5;132;01m}\u001b[39;00m\u001b[38;5;124m\"\u001b[39m)\n",
      "File \u001b[0;32m~/miniconda3/envs/tfs/lib/python3.10/site-packages/git/remote.py:1126\u001b[0m, in \u001b[0;36mRemote.push\u001b[0;34m(self, refspec, progress, kill_after_timeout, allow_unsafe_protocols, allow_unsafe_options, **kwargs)\u001b[0m\n\u001b[1;32m   1114\u001b[0m     Git\u001b[38;5;241m.\u001b[39mcheck_unsafe_options(options\u001b[38;5;241m=\u001b[39m\u001b[38;5;28mlist\u001b[39m(kwargs\u001b[38;5;241m.\u001b[39mkeys()), unsafe_options\u001b[38;5;241m=\u001b[39m\u001b[38;5;28mself\u001b[39m\u001b[38;5;241m.\u001b[39munsafe_git_push_options)\n\u001b[1;32m   1116\u001b[0m proc \u001b[38;5;241m=\u001b[39m \u001b[38;5;28mself\u001b[39m\u001b[38;5;241m.\u001b[39mrepo\u001b[38;5;241m.\u001b[39mgit\u001b[38;5;241m.\u001b[39mpush(\n\u001b[1;32m   1117\u001b[0m     \u001b[38;5;124m\"\u001b[39m\u001b[38;5;124m--\u001b[39m\u001b[38;5;124m\"\u001b[39m,\n\u001b[1;32m   1118\u001b[0m     \u001b[38;5;28mself\u001b[39m,\n\u001b[0;32m   (...)\u001b[0m\n\u001b[1;32m   1124\u001b[0m     \u001b[38;5;241m*\u001b[39m\u001b[38;5;241m*\u001b[39mkwargs,\n\u001b[1;32m   1125\u001b[0m )\n\u001b[0;32m-> 1126\u001b[0m \u001b[38;5;28;01mreturn\u001b[39;00m \u001b[38;5;28;43mself\u001b[39;49m\u001b[38;5;241;43m.\u001b[39;49m\u001b[43m_get_push_info\u001b[49m\u001b[43m(\u001b[49m\u001b[43mproc\u001b[49m\u001b[43m,\u001b[49m\u001b[43m \u001b[49m\u001b[43mprogress\u001b[49m\u001b[43m,\u001b[49m\u001b[43m \u001b[49m\u001b[43mkill_after_timeout\u001b[49m\u001b[38;5;241;43m=\u001b[39;49m\u001b[43mkill_after_timeout\u001b[49m\u001b[43m)\u001b[49m\n",
      "File \u001b[0;32m~/miniconda3/envs/tfs/lib/python3.10/site-packages/git/remote.py:917\u001b[0m, in \u001b[0;36mRemote._get_push_info\u001b[0;34m(self, proc, progress, kill_after_timeout)\u001b[0m\n\u001b[1;32m    915\u001b[0m stderr_text \u001b[38;5;241m=\u001b[39m progress\u001b[38;5;241m.\u001b[39merror_lines \u001b[38;5;129;01mand\u001b[39;00m \u001b[38;5;124m\"\u001b[39m\u001b[38;5;130;01m\\n\u001b[39;00m\u001b[38;5;124m\"\u001b[39m\u001b[38;5;241m.\u001b[39mjoin(progress\u001b[38;5;241m.\u001b[39merror_lines) \u001b[38;5;129;01mor\u001b[39;00m \u001b[38;5;124m\"\u001b[39m\u001b[38;5;124m\"\u001b[39m\n\u001b[1;32m    916\u001b[0m \u001b[38;5;28;01mtry\u001b[39;00m:\n\u001b[0;32m--> 917\u001b[0m     \u001b[43mproc\u001b[49m\u001b[38;5;241;43m.\u001b[39;49m\u001b[43mwait\u001b[49m\u001b[43m(\u001b[49m\u001b[43mstderr\u001b[49m\u001b[38;5;241;43m=\u001b[39;49m\u001b[43mstderr_text\u001b[49m\u001b[43m)\u001b[49m\n\u001b[1;32m    918\u001b[0m \u001b[38;5;28;01mexcept\u001b[39;00m \u001b[38;5;167;01mException\u001b[39;00m \u001b[38;5;28;01mas\u001b[39;00m e:\n\u001b[1;32m    919\u001b[0m     \u001b[38;5;66;03m# This is different than fetch (which fails if there is any stderr\u001b[39;00m\n\u001b[1;32m    920\u001b[0m     \u001b[38;5;66;03m# even if there is an output).\u001b[39;00m\n\u001b[1;32m    921\u001b[0m     \u001b[38;5;28;01mif\u001b[39;00m \u001b[38;5;129;01mnot\u001b[39;00m output:\n",
      "File \u001b[0;32m~/miniconda3/envs/tfs/lib/python3.10/site-packages/git/cmd.py:657\u001b[0m, in \u001b[0;36mGit.AutoInterrupt.wait\u001b[0;34m(self, stderr)\u001b[0m\n\u001b[1;32m    655\u001b[0m     errstr \u001b[38;5;241m=\u001b[39m read_all_from_possibly_closed_stream(p_stderr)\n\u001b[1;32m    656\u001b[0m     _logger\u001b[38;5;241m.\u001b[39mdebug(\u001b[38;5;124m\"\u001b[39m\u001b[38;5;124mAutoInterrupt wait stderr: \u001b[39m\u001b[38;5;132;01m%r\u001b[39;00m\u001b[38;5;124m\"\u001b[39m \u001b[38;5;241m%\u001b[39m (errstr,))\n\u001b[0;32m--> 657\u001b[0m     \u001b[38;5;28;01mraise\u001b[39;00m GitCommandError(remove_password_if_present(\u001b[38;5;28mself\u001b[39m\u001b[38;5;241m.\u001b[39margs), status, errstr)\n\u001b[1;32m    658\u001b[0m \u001b[38;5;28;01mreturn\u001b[39;00m status\n",
      "\u001b[0;31mGitCommandError\u001b[0m: Cmd('git') failed due to: exit code(128)\n  cmdline: git push --porcelain -- origin\n  stderr: 'fatal: could not read Username for 'https://github.com': No such device or address'"
     ]
    }
   ],
   "source": [
    "origin.push()\n",
    "print(f\"Pushed changes to {remote_repo}\")"
   ]
  },
  {
   "cell_type": "code",
   "execution_count": 18,
   "metadata": {},
   "outputs": [
    {
     "name": "stdout",
     "output_type": "stream",
     "text": [
      "Hosted template: datalabNU/prolific-deployment/master/interface.yml\n",
      "Hosted data: datalabNU/prolific-deployment/master/quarel.json\n"
     ]
    }
   ],
   "source": [
    "template_path = f\"{github_username}/{repository_name}/master/{local_template_path}\"\n",
    "data_path = f\"{github_username}/{repository_name}/master/{local_data_path}\"\n",
    "\n",
    "print(f\"Hosted template: {template_path}\")\n",
    "print(f\"Hosted data: {data_path}\")"
   ]
  },
  {
   "cell_type": "code",
   "execution_count": 19,
   "metadata": {},
   "outputs": [],
   "source": [
    "study_url = f\"https://thresh.tools/?gh={template_path}\"\n",
    "study_url = study_url + \"&PROLIFIC_PID={%PROLIFIC_PID%}&STUDY_ID={%STUDY_ID%}&SESSION_ID={%SESSION_ID%}\""
   ]
  },
  {
   "cell_type": "code",
   "execution_count": 20,
   "metadata": {},
   "outputs": [
    {
     "name": "stdout",
     "output_type": "stream",
     "text": [
      "View your hosted template here:\t\t  https://thresh.tools/?gh=datalabNU/prolific-deployment/master/interface.yml&PROLIFIC_PID={%PROLIFIC_PID%}&STUDY_ID={%STUDY_ID%}&SESSION_ID={%SESSION_ID%}\n",
      "Your study (with data) will be linked to: https://thresh.tools/?gh=datalabNU/prolific-deployment/master/interface.yml&PROLIFIC_PID={%PROLIFIC_PID%}&STUDY_ID={%STUDY_ID%}&SESSION_ID={%SESSION_ID%}&d=datalabNU/prolific-deployment/master/quarel.json\n"
     ]
    }
   ],
   "source": [
    "print(f\"View your hosted template here:\\t\\t  {study_url}\")\n",
    "\n",
    "study_url = f\"{study_url}&d={data_path}\"\n",
    "\n",
    "print(f\"Your study (with data) will be linked to: {study_url}\")"
   ]
  },
  {
   "cell_type": "code",
   "execution_count": null,
   "metadata": {},
   "outputs": [],
   "source": []
  }
 ],
 "metadata": {
  "kernelspec": {
   "display_name": "tfs",
   "language": "python",
   "name": "python3"
  },
  "language_info": {
   "codemirror_mode": {
    "name": "ipython",
    "version": 3
   },
   "file_extension": ".py",
   "mimetype": "text/x-python",
   "name": "python",
   "nbconvert_exporter": "python",
   "pygments_lexer": "ipython3",
   "version": "3.10.13"
  }
 },
 "nbformat": 4,
 "nbformat_minor": 2
}
